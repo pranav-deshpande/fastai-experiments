{
 "cells": [
  {
   "cell_type": "code",
   "execution_count": 5,
   "id": "83bad95b",
   "metadata": {},
   "outputs": [],
   "source": [
    "!pip install -q jupyter voila"
   ]
  },
  {
   "cell_type": "code",
   "execution_count": 6,
   "id": "b8cc58e6",
   "metadata": {},
   "outputs": [
    {
     "name": "stderr",
     "output_type": "stream",
     "text": [
      "Enabling: voila\n",
      "- Writing config: C:\\Users\\deshp\\miniconda3\\envs\\fastai\\etc\\jupyter\n",
      "    - Validating...\n",
      "      voila 0.4.1 ok\n"
     ]
    }
   ],
   "source": [
    "!jupyter serverextension enable --sys-prefix voila"
   ]
  },
  {
   "cell_type": "code",
   "execution_count": 9,
   "id": "20e22491",
   "metadata": {},
   "outputs": [],
   "source": [
    "from fastai.vision.all import *\n",
    "from fastai.vision.widgets import *"
   ]
  },
  {
   "cell_type": "code",
   "execution_count": 10,
   "id": "6eff65fc",
   "metadata": {},
   "outputs": [
    {
     "data": {
      "text/plain": [
       "(#1) [Path('export.pkl')]"
      ]
     },
     "execution_count": 10,
     "metadata": {},
     "output_type": "execute_result"
    }
   ],
   "source": [
    "# Check if the pickle file is there (our cat/dog classifier)\n",
    "path = Path()\n",
    "path.ls(file_exts='.pkl')"
   ]
  },
  {
   "cell_type": "code",
   "execution_count": 13,
   "id": "6be0bf41",
   "metadata": {},
   "outputs": [],
   "source": [
    "# Create the functions that the model to be loaded will need\n",
    "def label_func(f: str):\n",
    "    return 'Cat' if f[0].isupper() else 'Dog'\n",
    "\n",
    "# Load the model\n",
    "learn = load_learner(path/'export.pkl')"
   ]
  },
  {
   "cell_type": "code",
   "execution_count": 14,
   "id": "d761b997",
   "metadata": {},
   "outputs": [],
   "source": [
    "# Create the widgets\n",
    "btn_upload = widgets.FileUpload()\n",
    "output = widgets.Output()\n",
    "label = widgets.Label()\n",
    "btn_run = widgets.Button(description='Classify')"
   ]
  },
  {
   "cell_type": "code",
   "execution_count": 15,
   "id": "bcc9e405",
   "metadata": {},
   "outputs": [],
   "source": [
    "from io import BytesIO\n",
    "def on_click_classify(change):\n",
    "    img = Image.open(BytesIO(btn_upload.value[-1].content))\n",
    "    img = PILImage.create(np.array(img))\n",
    "    output.clear_output()\n",
    "    with output: display(img.to_thumb(128,128))\n",
    "    pred_label, pred_label_index, pred_probs = learn.predict(img)\n",
    "    label.value = f'Prediction: {pred_label}; Probability: {pred_probs[pred_label_index]:.04f}'\n",
    "\n",
    "btn_run.on_click(on_click_classify)"
   ]
  },
  {
   "cell_type": "code",
   "execution_count": 16,
   "id": "47b17c82",
   "metadata": {},
   "outputs": [
    {
     "data": {
      "application/vnd.jupyter.widget-view+json": {
       "model_id": "68d819c8d87b4926ac188fde6e01b45f",
       "version_major": 2,
       "version_minor": 0
      },
      "text/plain": [
       "VBox(children=(Label(value='Select your picture (cat/dog)!'), FileUpload(value=(), description='Upload'), Butt…"
      ]
     },
     "execution_count": 16,
     "metadata": {},
     "output_type": "execute_result"
    },
    {
     "data": {
      "text/html": [],
      "text/plain": [
       "<IPython.core.display.HTML object>"
      ]
     },
     "metadata": {},
     "output_type": "display_data"
    }
   ],
   "source": [
    "VBox([widgets.Label('Select your picture (cat/dog)!'), btn_upload, btn_run, output, label])"
   ]
  },
  {
   "cell_type": "code",
   "execution_count": null,
   "id": "076a7caf",
   "metadata": {},
   "outputs": [],
   "source": []
  }
 ],
 "metadata": {
  "kernelspec": {
   "display_name": "Python 3 (ipykernel)",
   "language": "python",
   "name": "python3"
  },
  "language_info": {
   "codemirror_mode": {
    "name": "ipython",
    "version": 3
   },
   "file_extension": ".py",
   "mimetype": "text/x-python",
   "name": "python",
   "nbconvert_exporter": "python",
   "pygments_lexer": "ipython3",
   "version": "3.9.16"
  }
 },
 "nbformat": 4,
 "nbformat_minor": 5
}
